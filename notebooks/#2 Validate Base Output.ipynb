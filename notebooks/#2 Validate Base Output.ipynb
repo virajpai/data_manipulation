{
 "cells": [
  {
   "cell_type": "code",
   "execution_count": 1,
   "metadata": {},
   "outputs": [],
   "source": [
    "import numpy as np\n",
    "import pandas as pd\n"
   ]
  },
  {
   "cell_type": "code",
   "execution_count": null,
   "metadata": {},
   "outputs": [],
   "source": []
  },
  {
   "cell_type": "markdown",
   "metadata": {},
   "source": [
    "### Reading Data"
   ]
  },
  {
   "cell_type": "code",
   "execution_count": 2,
   "metadata": {},
   "outputs": [
    {
     "name": "stdout",
     "output_type": "stream",
     "text": [
      "CPU times: user 269 ms, sys: 43.1 ms, total: 312 ms\n",
      "Wall time: 311 ms\n"
     ]
    },
    {
     "name": "stderr",
     "output_type": "stream",
     "text": [
      "<string>:2: DtypeWarning: Columns (2,3,4,5,6,7,8,9,10,11,12,13,14,15,16,17,18,19,20,21,22,23,24,25,26,27,28,29,30,31,32,33,34,35,36,37,38,39,40,41,42,43,44,45,46,47,48,49,50,51,52,54,55,56,57,58,59,60,61,62,63,64,65,66,67,68,69,70,71,72,73,74,75,76,77,78,79,80,81,82,83,84,85,86,87,88,89,90,91,92,93,94,95,96,97,98,99,100,101,102,103,104,106,107,108,109,110,111,112,113,114,115,116,117,118,119,120,121,122,123,124,125,126,127,128,129,130,131,132,133,134,135,136,137,138,139,140,141,142,143,144,145,146,147,148,149,150,151,152,153,154,155,156,158,159,160,161,162,163,164,165,166,167,168,169,170,171,172,173,174,175,176,177,178,179,180,181,182,183,184,185,186,187,188,189,190,191,192,193,194,195,196,197,198,199,200,201,202,203,204,205,206,207,208,210,211,212,213,214,215,216,217,218,219,220,221,222,223,224,225,226,227,228,229,230,231,232,233,234,235,236,237,238,239,240,241,242,243,244,245,246,247,248,249,250,251,252,253,254,255,256,257,258,259,260) have mixed types.Specify dtype option on import or set low_memory=False.\n"
     ]
    }
   ],
   "source": [
    "%%time\n",
    "df = pd.read_csv('../data/raw/Python Test 1 - billings_europe.csv', skiprows=3)"
   ]
  },
  {
   "cell_type": "code",
   "execution_count": 3,
   "metadata": {},
   "outputs": [
    {
     "data": {
      "text/html": [
       "<div>\n",
       "<style scoped>\n",
       "    .dataframe tbody tr th:only-of-type {\n",
       "        vertical-align: middle;\n",
       "    }\n",
       "\n",
       "    .dataframe tbody tr th {\n",
       "        vertical-align: top;\n",
       "    }\n",
       "\n",
       "    .dataframe thead th {\n",
       "        text-align: right;\n",
       "    }\n",
       "</style>\n",
       "<table border=\"1\" class=\"dataframe\">\n",
       "  <thead>\n",
       "    <tr style=\"text-align: right;\">\n",
       "      <th></th>\n",
       "      <th>1</th>\n",
       "      <th>2</th>\n",
       "      <th>9</th>\n",
       "      <th>10</th>\n",
       "      <th>11</th>\n",
       "      <th>12</th>\n",
       "      <th>13</th>\n",
       "      <th>14</th>\n",
       "      <th>15</th>\n",
       "      <th>16</th>\n",
       "      <th>...</th>\n",
       "      <th>258</th>\n",
       "      <th>259</th>\n",
       "      <th>260</th>\n",
       "      <th>261</th>\n",
       "      <th>262</th>\n",
       "      <th>263</th>\n",
       "      <th>264</th>\n",
       "      <th>265</th>\n",
       "      <th>266</th>\n",
       "      <th>267</th>\n",
       "    </tr>\n",
       "  </thead>\n",
       "  <tbody>\n",
       "    <tr>\n",
       "      <th>0</th>\n",
       "      <td>NaN</td>\n",
       "      <td>NaN</td>\n",
       "      <td>Europe - On Trailing EY</td>\n",
       "      <td>Consumer Discretionary - On Trailing EY</td>\n",
       "      <td>Consumer Staples - On Trailing EY</td>\n",
       "      <td>Energy - On Trailing EY</td>\n",
       "      <td>Financials - On Trailing EY</td>\n",
       "      <td>Health Care - On Trailing EY</td>\n",
       "      <td>Industrials - On Trailing EY</td>\n",
       "      <td>Information Technology - On Trailing EY</td>\n",
       "      <td>...</td>\n",
       "      <td>Greece - On Trailing BVY</td>\n",
       "      <td>Ireland - On Trailing BVY</td>\n",
       "      <td>Italy - On Trailing BVY</td>\n",
       "      <td>Netherlands - On Trailing BVY</td>\n",
       "      <td>Norway - On Trailing BVY</td>\n",
       "      <td>Portugal - On Trailing BVY</td>\n",
       "      <td>Spain - On Trailing BVY</td>\n",
       "      <td>Sweden - On Trailing BVY</td>\n",
       "      <td>Switzerland - On Trailing BVY</td>\n",
       "      <td>United Kingdom - On Trailing BVY</td>\n",
       "    </tr>\n",
       "    <tr>\n",
       "      <th>1</th>\n",
       "      <td>NaN</td>\n",
       "      <td>NaN</td>\n",
       "      <td>Market</td>\n",
       "      <td>Sectors</td>\n",
       "      <td>NaN</td>\n",
       "      <td>NaN</td>\n",
       "      <td>NaN</td>\n",
       "      <td>NaN</td>\n",
       "      <td>NaN</td>\n",
       "      <td>NaN</td>\n",
       "      <td>...</td>\n",
       "      <td>NaN</td>\n",
       "      <td>NaN</td>\n",
       "      <td>NaN</td>\n",
       "      <td>NaN</td>\n",
       "      <td>NaN</td>\n",
       "      <td>NaN</td>\n",
       "      <td>NaN</td>\n",
       "      <td>NaN</td>\n",
       "      <td>NaN</td>\n",
       "      <td>NaN</td>\n",
       "    </tr>\n",
       "    <tr>\n",
       "      <th>2</th>\n",
       "      <td>NaN</td>\n",
       "      <td>NaN</td>\n",
       "      <td>EURO</td>\n",
       "      <td>EURO_25</td>\n",
       "      <td>EURO_30</td>\n",
       "      <td>EURO_10</td>\n",
       "      <td>EURO_40</td>\n",
       "      <td>EURO_35</td>\n",
       "      <td>EURO_20</td>\n",
       "      <td>EURO_45</td>\n",
       "      <td>...</td>\n",
       "      <td>GR</td>\n",
       "      <td>IE</td>\n",
       "      <td>IT</td>\n",
       "      <td>NL</td>\n",
       "      <td>NO</td>\n",
       "      <td>PT</td>\n",
       "      <td>ES</td>\n",
       "      <td>SE</td>\n",
       "      <td>CH</td>\n",
       "      <td>GB</td>\n",
       "    </tr>\n",
       "    <tr>\n",
       "      <th>3</th>\n",
       "      <td>31-Dec-74</td>\n",
       "      <td>NaN</td>\n",
       "      <td>27536</td>\n",
       "      <td>26861</td>\n",
       "      <td>25887.8</td>\n",
       "      <td>51400.2</td>\n",
       "      <td>28288</td>\n",
       "      <td>10853.8</td>\n",
       "      <td>21598.2</td>\n",
       "      <td>13201.2</td>\n",
       "      <td>...</td>\n",
       "      <td>NaN</td>\n",
       "      <td>NaN</td>\n",
       "      <td>25640.4</td>\n",
       "      <td>21079.6</td>\n",
       "      <td>13796.8</td>\n",
       "      <td>NaN</td>\n",
       "      <td>21978</td>\n",
       "      <td>16744.6</td>\n",
       "      <td>24155.2</td>\n",
       "      <td>14720.6</td>\n",
       "    </tr>\n",
       "    <tr>\n",
       "      <th>4</th>\n",
       "      <td>1-Jan-75</td>\n",
       "      <td>NaN</td>\n",
       "      <td>NaN</td>\n",
       "      <td>NaN</td>\n",
       "      <td>NaN</td>\n",
       "      <td>NaN</td>\n",
       "      <td>NaN</td>\n",
       "      <td>NaN</td>\n",
       "      <td>NaN</td>\n",
       "      <td>NaN</td>\n",
       "      <td>...</td>\n",
       "      <td>NaN</td>\n",
       "      <td>NaN</td>\n",
       "      <td>NaN</td>\n",
       "      <td>NaN</td>\n",
       "      <td>NaN</td>\n",
       "      <td>NaN</td>\n",
       "      <td>NaN</td>\n",
       "      <td>NaN</td>\n",
       "      <td>NaN</td>\n",
       "      <td>NaN</td>\n",
       "    </tr>\n",
       "  </tbody>\n",
       "</table>\n",
       "<p>5 rows × 261 columns</p>\n",
       "</div>"
      ],
      "text/plain": [
       "           1   2                        9  \\\n",
       "0        NaN NaN  Europe - On Trailing EY   \n",
       "1        NaN NaN                   Market   \n",
       "2        NaN NaN                     EURO   \n",
       "3  31-Dec-74 NaN                    27536   \n",
       "4   1-Jan-75 NaN                      NaN   \n",
       "\n",
       "                                        10                                 11  \\\n",
       "0  Consumer Discretionary - On Trailing EY  Consumer Staples - On Trailing EY   \n",
       "1                                  Sectors                                NaN   \n",
       "2                                  EURO_25                            EURO_30   \n",
       "3                                    26861                            25887.8   \n",
       "4                                      NaN                                NaN   \n",
       "\n",
       "                        12                           13  \\\n",
       "0  Energy - On Trailing EY  Financials - On Trailing EY   \n",
       "1                      NaN                          NaN   \n",
       "2                  EURO_10                      EURO_40   \n",
       "3                  51400.2                        28288   \n",
       "4                      NaN                          NaN   \n",
       "\n",
       "                             14                            15  \\\n",
       "0  Health Care - On Trailing EY  Industrials - On Trailing EY   \n",
       "1                           NaN                           NaN   \n",
       "2                       EURO_35                       EURO_20   \n",
       "3                       10853.8                       21598.2   \n",
       "4                           NaN                           NaN   \n",
       "\n",
       "                                        16  ...                       258  \\\n",
       "0  Information Technology - On Trailing EY  ...  Greece - On Trailing BVY   \n",
       "1                                      NaN  ...                       NaN   \n",
       "2                                  EURO_45  ...                        GR   \n",
       "3                                  13201.2  ...                       NaN   \n",
       "4                                      NaN  ...                       NaN   \n",
       "\n",
       "                         259                      260  \\\n",
       "0  Ireland - On Trailing BVY  Italy - On Trailing BVY   \n",
       "1                        NaN                      NaN   \n",
       "2                         IE                       IT   \n",
       "3                        NaN                  25640.4   \n",
       "4                        NaN                      NaN   \n",
       "\n",
       "                             261                       262  \\\n",
       "0  Netherlands - On Trailing BVY  Norway - On Trailing BVY   \n",
       "1                            NaN                       NaN   \n",
       "2                             NL                        NO   \n",
       "3                        21079.6                   13796.8   \n",
       "4                            NaN                       NaN   \n",
       "\n",
       "                          263                      264  \\\n",
       "0  Portugal - On Trailing BVY  Spain - On Trailing BVY   \n",
       "1                         NaN                      NaN   \n",
       "2                          PT                       ES   \n",
       "3                         NaN                    21978   \n",
       "4                         NaN                      NaN   \n",
       "\n",
       "                        265                            266  \\\n",
       "0  Sweden - On Trailing BVY  Switzerland - On Trailing BVY   \n",
       "1                       NaN                            NaN   \n",
       "2                        SE                             CH   \n",
       "3                   16744.6                        24155.2   \n",
       "4                       NaN                            NaN   \n",
       "\n",
       "                                267  \n",
       "0  United Kingdom - On Trailing BVY  \n",
       "1                               NaN  \n",
       "2                                GB  \n",
       "3                           14720.6  \n",
       "4                               NaN  \n",
       "\n",
       "[5 rows x 261 columns]"
      ]
     },
     "execution_count": 3,
     "metadata": {},
     "output_type": "execute_result"
    }
   ],
   "source": [
    "df.head()"
   ]
  },
  {
   "cell_type": "code",
   "execution_count": 4,
   "metadata": {},
   "outputs": [
    {
     "data": {
      "text/html": [
       "<div>\n",
       "<style scoped>\n",
       "    .dataframe tbody tr th:only-of-type {\n",
       "        vertical-align: middle;\n",
       "    }\n",
       "\n",
       "    .dataframe tbody tr th {\n",
       "        vertical-align: top;\n",
       "    }\n",
       "\n",
       "    .dataframe thead th {\n",
       "        text-align: right;\n",
       "    }\n",
       "</style>\n",
       "<table border=\"1\" class=\"dataframe\">\n",
       "  <thead>\n",
       "    <tr style=\"text-align: right;\">\n",
       "      <th></th>\n",
       "      <th>2</th>\n",
       "      <th>60</th>\n",
       "      <th>112</th>\n",
       "      <th>164</th>\n",
       "      <th>216</th>\n",
       "    </tr>\n",
       "  </thead>\n",
       "  <tbody>\n",
       "    <tr>\n",
       "      <th>count</th>\n",
       "      <td>0.0</td>\n",
       "      <td>0.0</td>\n",
       "      <td>0.0</td>\n",
       "      <td>0.0</td>\n",
       "      <td>0.0</td>\n",
       "    </tr>\n",
       "    <tr>\n",
       "      <th>mean</th>\n",
       "      <td>NaN</td>\n",
       "      <td>NaN</td>\n",
       "      <td>NaN</td>\n",
       "      <td>NaN</td>\n",
       "      <td>NaN</td>\n",
       "    </tr>\n",
       "    <tr>\n",
       "      <th>std</th>\n",
       "      <td>NaN</td>\n",
       "      <td>NaN</td>\n",
       "      <td>NaN</td>\n",
       "      <td>NaN</td>\n",
       "      <td>NaN</td>\n",
       "    </tr>\n",
       "    <tr>\n",
       "      <th>min</th>\n",
       "      <td>NaN</td>\n",
       "      <td>NaN</td>\n",
       "      <td>NaN</td>\n",
       "      <td>NaN</td>\n",
       "      <td>NaN</td>\n",
       "    </tr>\n",
       "    <tr>\n",
       "      <th>25%</th>\n",
       "      <td>NaN</td>\n",
       "      <td>NaN</td>\n",
       "      <td>NaN</td>\n",
       "      <td>NaN</td>\n",
       "      <td>NaN</td>\n",
       "    </tr>\n",
       "    <tr>\n",
       "      <th>50%</th>\n",
       "      <td>NaN</td>\n",
       "      <td>NaN</td>\n",
       "      <td>NaN</td>\n",
       "      <td>NaN</td>\n",
       "      <td>NaN</td>\n",
       "    </tr>\n",
       "    <tr>\n",
       "      <th>75%</th>\n",
       "      <td>NaN</td>\n",
       "      <td>NaN</td>\n",
       "      <td>NaN</td>\n",
       "      <td>NaN</td>\n",
       "      <td>NaN</td>\n",
       "    </tr>\n",
       "    <tr>\n",
       "      <th>max</th>\n",
       "      <td>NaN</td>\n",
       "      <td>NaN</td>\n",
       "      <td>NaN</td>\n",
       "      <td>NaN</td>\n",
       "      <td>NaN</td>\n",
       "    </tr>\n",
       "  </tbody>\n",
       "</table>\n",
       "</div>"
      ],
      "text/plain": [
       "         2   60  112  164  216\n",
       "count  0.0  0.0  0.0  0.0  0.0\n",
       "mean   NaN  NaN  NaN  NaN  NaN\n",
       "std    NaN  NaN  NaN  NaN  NaN\n",
       "min    NaN  NaN  NaN  NaN  NaN\n",
       "25%    NaN  NaN  NaN  NaN  NaN\n",
       "50%    NaN  NaN  NaN  NaN  NaN\n",
       "75%    NaN  NaN  NaN  NaN  NaN\n",
       "max    NaN  NaN  NaN  NaN  NaN"
      ]
     },
     "execution_count": 4,
     "metadata": {},
     "output_type": "execute_result"
    }
   ],
   "source": [
    "df.describe()"
   ]
  },
  {
   "cell_type": "markdown",
   "metadata": {},
   "source": [
    "### Dropping all null columns"
   ]
  },
  {
   "cell_type": "code",
   "execution_count": 5,
   "metadata": {},
   "outputs": [],
   "source": [
    "all_null_cols = [col for col in df.columns if df[col].isnull().all()]"
   ]
  },
  {
   "cell_type": "code",
   "execution_count": 6,
   "metadata": {},
   "outputs": [
    {
     "data": {
      "text/plain": [
       "['2', '60', '112', '164', '216']"
      ]
     },
     "execution_count": 6,
     "metadata": {},
     "output_type": "execute_result"
    }
   ],
   "source": [
    "all_null_cols"
   ]
  },
  {
   "cell_type": "code",
   "execution_count": 7,
   "metadata": {},
   "outputs": [],
   "source": [
    "df.drop(columns=all_null_cols, inplace=True)"
   ]
  },
  {
   "cell_type": "code",
   "execution_count": 8,
   "metadata": {},
   "outputs": [
    {
     "data": {
      "text/html": [
       "<div>\n",
       "<style scoped>\n",
       "    .dataframe tbody tr th:only-of-type {\n",
       "        vertical-align: middle;\n",
       "    }\n",
       "\n",
       "    .dataframe tbody tr th {\n",
       "        vertical-align: top;\n",
       "    }\n",
       "\n",
       "    .dataframe thead th {\n",
       "        text-align: right;\n",
       "    }\n",
       "</style>\n",
       "<table border=\"1\" class=\"dataframe\">\n",
       "  <thead>\n",
       "    <tr style=\"text-align: right;\">\n",
       "      <th></th>\n",
       "      <th>1</th>\n",
       "      <th>9</th>\n",
       "      <th>10</th>\n",
       "      <th>11</th>\n",
       "      <th>12</th>\n",
       "      <th>13</th>\n",
       "      <th>14</th>\n",
       "      <th>15</th>\n",
       "      <th>16</th>\n",
       "      <th>17</th>\n",
       "      <th>...</th>\n",
       "      <th>258</th>\n",
       "      <th>259</th>\n",
       "      <th>260</th>\n",
       "      <th>261</th>\n",
       "      <th>262</th>\n",
       "      <th>263</th>\n",
       "      <th>264</th>\n",
       "      <th>265</th>\n",
       "      <th>266</th>\n",
       "      <th>267</th>\n",
       "    </tr>\n",
       "  </thead>\n",
       "  <tbody>\n",
       "    <tr>\n",
       "      <th>count</th>\n",
       "      <td>11134</td>\n",
       "      <td>1102.0</td>\n",
       "      <td>1102.0</td>\n",
       "      <td>1101.0</td>\n",
       "      <td>1101.0</td>\n",
       "      <td>1101.0</td>\n",
       "      <td>1101.0</td>\n",
       "      <td>1101.0</td>\n",
       "      <td>1101.0</td>\n",
       "      <td>1101.0</td>\n",
       "      <td>...</td>\n",
       "      <td>128.0</td>\n",
       "      <td>612.0</td>\n",
       "      <td>1101.0</td>\n",
       "      <td>1101.0</td>\n",
       "      <td>1101.0</td>\n",
       "      <td>201.0</td>\n",
       "      <td>1101.0</td>\n",
       "      <td>1101.0</td>\n",
       "      <td>1101.0</td>\n",
       "      <td>1101.0</td>\n",
       "    </tr>\n",
       "    <tr>\n",
       "      <th>unique</th>\n",
       "      <td>11134</td>\n",
       "      <td>1085.0</td>\n",
       "      <td>1091.0</td>\n",
       "      <td>1082.0</td>\n",
       "      <td>1096.0</td>\n",
       "      <td>1087.0</td>\n",
       "      <td>1088.0</td>\n",
       "      <td>1082.0</td>\n",
       "      <td>1077.0</td>\n",
       "      <td>1086.0</td>\n",
       "      <td>...</td>\n",
       "      <td>127.0</td>\n",
       "      <td>604.0</td>\n",
       "      <td>1087.0</td>\n",
       "      <td>1094.0</td>\n",
       "      <td>1083.0</td>\n",
       "      <td>198.0</td>\n",
       "      <td>1092.0</td>\n",
       "      <td>1076.0</td>\n",
       "      <td>1081.0</td>\n",
       "      <td>1090.0</td>\n",
       "    </tr>\n",
       "    <tr>\n",
       "      <th>top</th>\n",
       "      <td>13-Sep-94</td>\n",
       "      <td>20337.4</td>\n",
       "      <td>23407.4</td>\n",
       "      <td>12141.0</td>\n",
       "      <td>42691.2</td>\n",
       "      <td>21228.6</td>\n",
       "      <td>10624.6</td>\n",
       "      <td>21384.4</td>\n",
       "      <td>14235.8</td>\n",
       "      <td>17734.0</td>\n",
       "      <td>...</td>\n",
       "      <td>17878.8</td>\n",
       "      <td>49514.0</td>\n",
       "      <td>16131.8</td>\n",
       "      <td>27580.0</td>\n",
       "      <td>34885.6</td>\n",
       "      <td>19720.2</td>\n",
       "      <td>23154.6</td>\n",
       "      <td>19830.2</td>\n",
       "      <td>44044.4</td>\n",
       "      <td>35508.8</td>\n",
       "    </tr>\n",
       "    <tr>\n",
       "      <th>freq</th>\n",
       "      <td>1</td>\n",
       "      <td>3.0</td>\n",
       "      <td>3.0</td>\n",
       "      <td>2.0</td>\n",
       "      <td>2.0</td>\n",
       "      <td>2.0</td>\n",
       "      <td>2.0</td>\n",
       "      <td>2.0</td>\n",
       "      <td>2.0</td>\n",
       "      <td>2.0</td>\n",
       "      <td>...</td>\n",
       "      <td>2.0</td>\n",
       "      <td>2.0</td>\n",
       "      <td>2.0</td>\n",
       "      <td>2.0</td>\n",
       "      <td>3.0</td>\n",
       "      <td>2.0</td>\n",
       "      <td>2.0</td>\n",
       "      <td>2.0</td>\n",
       "      <td>2.0</td>\n",
       "      <td>2.0</td>\n",
       "    </tr>\n",
       "  </tbody>\n",
       "</table>\n",
       "<p>4 rows × 256 columns</p>\n",
       "</div>"
      ],
      "text/plain": [
       "                1        9       10       11       12       13       14  \\\n",
       "count       11134   1102.0   1102.0   1101.0   1101.0   1101.0   1101.0   \n",
       "unique      11134   1085.0   1091.0   1082.0   1096.0   1087.0   1088.0   \n",
       "top     13-Sep-94  20337.4  23407.4  12141.0  42691.2  21228.6  10624.6   \n",
       "freq            1      3.0      3.0      2.0      2.0      2.0      2.0   \n",
       "\n",
       "             15       16       17  ...      258      259      260      261  \\\n",
       "count    1101.0   1101.0   1101.0  ...    128.0    612.0   1101.0   1101.0   \n",
       "unique   1082.0   1077.0   1086.0  ...    127.0    604.0   1087.0   1094.0   \n",
       "top     21384.4  14235.8  17734.0  ...  17878.8  49514.0  16131.8  27580.0   \n",
       "freq        2.0      2.0      2.0  ...      2.0      2.0      2.0      2.0   \n",
       "\n",
       "            262      263      264      265      266      267  \n",
       "count    1101.0    201.0   1101.0   1101.0   1101.0   1101.0  \n",
       "unique   1083.0    198.0   1092.0   1076.0   1081.0   1090.0  \n",
       "top     34885.6  19720.2  23154.6  19830.2  44044.4  35508.8  \n",
       "freq        3.0      2.0      2.0      2.0      2.0      2.0  \n",
       "\n",
       "[4 rows x 256 columns]"
      ]
     },
     "execution_count": 8,
     "metadata": {},
     "output_type": "execute_result"
    }
   ],
   "source": [
    "df.describe()"
   ]
  },
  {
   "cell_type": "markdown",
   "metadata": {},
   "source": []
  },
  {
   "cell_type": "markdown",
   "metadata": {},
   "source": [
    "## Validation"
   ]
  },
  {
   "cell_type": "markdown",
   "metadata": {},
   "source": [
    "### Create an empty dataframe called - date_df"
   ]
  },
  {
   "cell_type": "code",
   "execution_count": 9,
   "metadata": {},
   "outputs": [],
   "source": [
    "date_df = pd.DataFrame()"
   ]
  },
  {
   "cell_type": "markdown",
   "metadata": {},
   "source": [
    "### Creating Date Column"
   ]
  },
  {
   "cell_type": "code",
   "execution_count": 10,
   "metadata": {},
   "outputs": [
    {
     "data": {
      "text/plain": [
       "0          NaN\n",
       "1          NaN\n",
       "2          NaN\n",
       "3    31-Dec-74\n",
       "4     1-Jan-75\n",
       "Name: 1, dtype: object"
      ]
     },
     "execution_count": 10,
     "metadata": {},
     "output_type": "execute_result"
    }
   ],
   "source": [
    "df['1'].head()"
   ]
  },
  {
   "cell_type": "code",
   "execution_count": 11,
   "metadata": {},
   "outputs": [
    {
     "data": {
      "text/plain": [
       "3"
      ]
     },
     "execution_count": 11,
     "metadata": {},
     "output_type": "execute_result"
    }
   ],
   "source": [
    "df['1'].isnull().sum()"
   ]
  },
  {
   "cell_type": "code",
   "execution_count": 12,
   "metadata": {},
   "outputs": [],
   "source": [
    "# Considering only non-null dates as valid dates\n",
    "date_df['Date'] = pd.to_datetime(df[df['1'].notnull()]['1'])"
   ]
  },
  {
   "cell_type": "code",
   "execution_count": 13,
   "metadata": {},
   "outputs": [],
   "source": [
    "date_df.reset_index(drop=True, inplace=True)"
   ]
  },
  {
   "cell_type": "code",
   "execution_count": 14,
   "metadata": {},
   "outputs": [
    {
     "data": {
      "text/html": [
       "<div>\n",
       "<style scoped>\n",
       "    .dataframe tbody tr th:only-of-type {\n",
       "        vertical-align: middle;\n",
       "    }\n",
       "\n",
       "    .dataframe tbody tr th {\n",
       "        vertical-align: top;\n",
       "    }\n",
       "\n",
       "    .dataframe thead th {\n",
       "        text-align: right;\n",
       "    }\n",
       "</style>\n",
       "<table border=\"1\" class=\"dataframe\">\n",
       "  <thead>\n",
       "    <tr style=\"text-align: right;\">\n",
       "      <th></th>\n",
       "      <th>Date</th>\n",
       "    </tr>\n",
       "  </thead>\n",
       "  <tbody>\n",
       "    <tr>\n",
       "      <th>0</th>\n",
       "      <td>1974-12-31</td>\n",
       "    </tr>\n",
       "    <tr>\n",
       "      <th>1</th>\n",
       "      <td>1975-01-01</td>\n",
       "    </tr>\n",
       "    <tr>\n",
       "      <th>2</th>\n",
       "      <td>1975-01-02</td>\n",
       "    </tr>\n",
       "    <tr>\n",
       "      <th>3</th>\n",
       "      <td>1975-01-03</td>\n",
       "    </tr>\n",
       "    <tr>\n",
       "      <th>4</th>\n",
       "      <td>1975-01-06</td>\n",
       "    </tr>\n",
       "    <tr>\n",
       "      <th>...</th>\n",
       "      <td>...</td>\n",
       "    </tr>\n",
       "    <tr>\n",
       "      <th>11129</th>\n",
       "      <td>2017-08-28</td>\n",
       "    </tr>\n",
       "    <tr>\n",
       "      <th>11130</th>\n",
       "      <td>2017-08-29</td>\n",
       "    </tr>\n",
       "    <tr>\n",
       "      <th>11131</th>\n",
       "      <td>2017-08-30</td>\n",
       "    </tr>\n",
       "    <tr>\n",
       "      <th>11132</th>\n",
       "      <td>2017-08-31</td>\n",
       "    </tr>\n",
       "    <tr>\n",
       "      <th>11133</th>\n",
       "      <td>2017-09-01</td>\n",
       "    </tr>\n",
       "  </tbody>\n",
       "</table>\n",
       "<p>11134 rows × 1 columns</p>\n",
       "</div>"
      ],
      "text/plain": [
       "            Date\n",
       "0     1974-12-31\n",
       "1     1975-01-01\n",
       "2     1975-01-02\n",
       "3     1975-01-03\n",
       "4     1975-01-06\n",
       "...          ...\n",
       "11129 2017-08-28\n",
       "11130 2017-08-29\n",
       "11131 2017-08-30\n",
       "11132 2017-08-31\n",
       "11133 2017-09-01\n",
       "\n",
       "[11134 rows x 1 columns]"
      ]
     },
     "execution_count": 14,
     "metadata": {},
     "output_type": "execute_result"
    }
   ],
   "source": [
    "date_df"
   ]
  },
  {
   "cell_type": "code",
   "execution_count": 15,
   "metadata": {},
   "outputs": [
    {
     "data": {
      "text/html": [
       "<div>\n",
       "<style scoped>\n",
       "    .dataframe tbody tr th:only-of-type {\n",
       "        vertical-align: middle;\n",
       "    }\n",
       "\n",
       "    .dataframe tbody tr th {\n",
       "        vertical-align: top;\n",
       "    }\n",
       "\n",
       "    .dataframe thead th {\n",
       "        text-align: right;\n",
       "    }\n",
       "</style>\n",
       "<table border=\"1\" class=\"dataframe\">\n",
       "  <thead>\n",
       "    <tr style=\"text-align: right;\">\n",
       "      <th></th>\n",
       "      <th>Date</th>\n",
       "    </tr>\n",
       "  </thead>\n",
       "  <tbody>\n",
       "    <tr>\n",
       "      <th>count</th>\n",
       "      <td>11134</td>\n",
       "    </tr>\n",
       "    <tr>\n",
       "      <th>unique</th>\n",
       "      <td>11134</td>\n",
       "    </tr>\n",
       "    <tr>\n",
       "      <th>top</th>\n",
       "      <td>1989-12-27 00:00:00</td>\n",
       "    </tr>\n",
       "    <tr>\n",
       "      <th>freq</th>\n",
       "      <td>1</td>\n",
       "    </tr>\n",
       "    <tr>\n",
       "      <th>first</th>\n",
       "      <td>1974-12-31 00:00:00</td>\n",
       "    </tr>\n",
       "    <tr>\n",
       "      <th>last</th>\n",
       "      <td>2017-09-01 00:00:00</td>\n",
       "    </tr>\n",
       "  </tbody>\n",
       "</table>\n",
       "</div>"
      ],
      "text/plain": [
       "                       Date\n",
       "count                 11134\n",
       "unique                11134\n",
       "top     1989-12-27 00:00:00\n",
       "freq                      1\n",
       "first   1974-12-31 00:00:00\n",
       "last    2017-09-01 00:00:00"
      ]
     },
     "execution_count": 15,
     "metadata": {},
     "output_type": "execute_result"
    }
   ],
   "source": [
    "date_df.describe()"
   ]
  },
  {
   "cell_type": "markdown",
   "metadata": {},
   "source": [
    "### Analyze Segment, Period, Type & Sub Type"
   ]
  },
  {
   "cell_type": "code",
   "execution_count": 16,
   "metadata": {},
   "outputs": [
    {
     "data": {
      "text/plain": [
       "1                                          NaN\n",
       "9                      Europe - On Trailing EY\n",
       "10     Consumer Discretionary - On Trailing EY\n",
       "11           Consumer Staples - On Trailing EY\n",
       "12                     Energy - On Trailing EY\n",
       "                        ...                   \n",
       "263                 Portugal - On Trailing BVY\n",
       "264                    Spain - On Trailing BVY\n",
       "265                   Sweden - On Trailing BVY\n",
       "266              Switzerland - On Trailing BVY\n",
       "267           United Kingdom - On Trailing BVY\n",
       "Name: 0, Length: 256, dtype: object"
      ]
     },
     "execution_count": 16,
     "metadata": {},
     "output_type": "execute_result"
    }
   ],
   "source": [
    "df.iloc[0]"
   ]
  },
  {
   "cell_type": "code",
   "execution_count": 17,
   "metadata": {},
   "outputs": [
    {
     "data": {
      "text/plain": [
       "Utilities - On Forward EY                     2\n",
       "Telecommunication Services - On Forward DY    2\n",
       "Materials - On Trailing DY                    2\n",
       "Materials - On Trailing EY                    2\n",
       "Energy - On Trailing EY                       2\n",
       "                                             ..\n",
       "Belgium - On Forward DY                       1\n",
       "Switzerland - On Trailing DY                  1\n",
       "Insurance - On Trailing BVY                   1\n",
       "Denmark - On Trailing DY                      1\n",
       "Diversified Financials - On Forward DY        1\n",
       "Name: 0, Length: 235, dtype: int64"
      ]
     },
     "execution_count": 17,
     "metadata": {},
     "output_type": "execute_result"
    }
   ],
   "source": [
    "df.iloc[0].value_counts()"
   ]
  },
  {
   "cell_type": "code",
   "execution_count": 18,
   "metadata": {},
   "outputs": [
    {
     "data": {
      "text/plain": [
       "1            NaN\n",
       "9         Market\n",
       "10       Sectors\n",
       "11       Sectors\n",
       "12       Sectors\n",
       "         ...    \n",
       "263    Countries\n",
       "264    Countries\n",
       "265    Countries\n",
       "266    Countries\n",
       "267    Countries\n",
       "Name: 1, Length: 256, dtype: object"
      ]
     },
     "execution_count": 18,
     "metadata": {},
     "output_type": "execute_result"
    }
   ],
   "source": [
    "df.iloc[1].fillna(method='ffill')"
   ]
  },
  {
   "cell_type": "code",
   "execution_count": 19,
   "metadata": {},
   "outputs": [
    {
     "data": {
      "text/plain": [
       "Industry Groups    120\n",
       "Countries           80\n",
       "Sectors             50\n",
       "Market               5\n",
       "Name: 1, dtype: int64"
      ]
     },
     "execution_count": 19,
     "metadata": {},
     "output_type": "execute_result"
    }
   ],
   "source": [
    "df.iloc[1].fillna(method='ffill').value_counts()"
   ]
  },
  {
   "cell_type": "code",
   "execution_count": 20,
   "metadata": {},
   "outputs": [
    {
     "data": {
      "text/plain": [
       "1          NaN\n",
       "9         EURO\n",
       "10     EURO_25\n",
       "11     EURO_30\n",
       "12     EURO_10\n",
       "        ...   \n",
       "263         PT\n",
       "264         ES\n",
       "265         SE\n",
       "266         CH\n",
       "267         GB\n",
       "Name: 2, Length: 256, dtype: object"
      ]
     },
     "execution_count": 20,
     "metadata": {},
     "output_type": "execute_result"
    }
   ],
   "source": [
    "df.iloc[2]"
   ]
  },
  {
   "cell_type": "code",
   "execution_count": 21,
   "metadata": {},
   "outputs": [
    {
     "data": {
      "text/plain": [
       "EURO_1510    5\n",
       "AT           5\n",
       "NO           5\n",
       "EURO_10      5\n",
       "EURO_25      5\n",
       "EURO_20      5\n",
       "EURO_1010    5\n",
       "EURO_4010    5\n",
       "EURO_3010    5\n",
       "EURO_5510    5\n",
       "NL           5\n",
       "EURO_2550    5\n",
       "GB           5\n",
       "EURO_45      5\n",
       "EURO_4520    5\n",
       "EURO_4040    5\n",
       "EURO_2540    5\n",
       "EURO_35      5\n",
       "SE           5\n",
       "EURO_2020    5\n",
       "EURO_2030    5\n",
       "EURO_55      5\n",
       "IT           5\n",
       "EURO         5\n",
       "ES           5\n",
       "CH           5\n",
       "EURO_2510    5\n",
       "EURO_2010    5\n",
       "EURO_5010    5\n",
       "GR           5\n",
       "EURO_3510    5\n",
       "EURO_40      5\n",
       "EURO_4530    5\n",
       "EURO_30      5\n",
       "BE           5\n",
       "PT           5\n",
       "EURO_4020    5\n",
       "IE           5\n",
       "EURO_2530    5\n",
       "EURO_2520    5\n",
       "EURO_3030    5\n",
       "EURO_4030    5\n",
       "EURO_50      5\n",
       "DK           5\n",
       "EURO_3520    5\n",
       "EURO_15      5\n",
       "EURO_3020    5\n",
       "DE           5\n",
       "FI           5\n",
       "FR           5\n",
       "EURO_4510    5\n",
       "Name: 2, dtype: int64"
      ]
     },
     "execution_count": 21,
     "metadata": {},
     "output_type": "execute_result"
    }
   ],
   "source": [
    "df.iloc[2].value_counts()"
   ]
  },
  {
   "cell_type": "markdown",
   "metadata": {},
   "source": [
    "### Create a DataFrame for Segment, Period, Type & Sub Type - \"type_df\""
   ]
  },
  {
   "cell_type": "code",
   "execution_count": 22,
   "metadata": {},
   "outputs": [],
   "source": [
    "type_df = pd.concat([df.iloc[0], df.iloc[1].fillna(method='ffill'), df.iloc[2]], axis=1)"
   ]
  },
  {
   "cell_type": "code",
   "execution_count": 23,
   "metadata": {},
   "outputs": [
    {
     "name": "stdout",
     "output_type": "stream",
     "text": [
      "0  null counts:  1\n",
      "1  null counts:  1\n",
      "2  null counts:  1\n"
     ]
    }
   ],
   "source": [
    "for col in type_df.columns:\n",
    "    print(col, ' null counts: ', type_df[col].isnull().sum())\n",
    "    "
   ]
  },
  {
   "cell_type": "code",
   "execution_count": 24,
   "metadata": {},
   "outputs": [
    {
     "data": {
      "text/html": [
       "<div>\n",
       "<style scoped>\n",
       "    .dataframe tbody tr th:only-of-type {\n",
       "        vertical-align: middle;\n",
       "    }\n",
       "\n",
       "    .dataframe tbody tr th {\n",
       "        vertical-align: top;\n",
       "    }\n",
       "\n",
       "    .dataframe thead th {\n",
       "        text-align: right;\n",
       "    }\n",
       "</style>\n",
       "<table border=\"1\" class=\"dataframe\">\n",
       "  <thead>\n",
       "    <tr style=\"text-align: right;\">\n",
       "      <th></th>\n",
       "      <th>0</th>\n",
       "      <th>1</th>\n",
       "      <th>2</th>\n",
       "    </tr>\n",
       "  </thead>\n",
       "  <tbody>\n",
       "    <tr>\n",
       "      <th>9</th>\n",
       "      <td>Europe - On Trailing EY</td>\n",
       "      <td>Market</td>\n",
       "      <td>EURO</td>\n",
       "    </tr>\n",
       "    <tr>\n",
       "      <th>10</th>\n",
       "      <td>Consumer Discretionary - On Trailing EY</td>\n",
       "      <td>Sectors</td>\n",
       "      <td>EURO_25</td>\n",
       "    </tr>\n",
       "    <tr>\n",
       "      <th>11</th>\n",
       "      <td>Consumer Staples - On Trailing EY</td>\n",
       "      <td>Sectors</td>\n",
       "      <td>EURO_30</td>\n",
       "    </tr>\n",
       "    <tr>\n",
       "      <th>12</th>\n",
       "      <td>Energy - On Trailing EY</td>\n",
       "      <td>Sectors</td>\n",
       "      <td>EURO_10</td>\n",
       "    </tr>\n",
       "    <tr>\n",
       "      <th>13</th>\n",
       "      <td>Financials - On Trailing EY</td>\n",
       "      <td>Sectors</td>\n",
       "      <td>EURO_40</td>\n",
       "    </tr>\n",
       "    <tr>\n",
       "      <th>...</th>\n",
       "      <td>...</td>\n",
       "      <td>...</td>\n",
       "      <td>...</td>\n",
       "    </tr>\n",
       "    <tr>\n",
       "      <th>263</th>\n",
       "      <td>Portugal - On Trailing BVY</td>\n",
       "      <td>Countries</td>\n",
       "      <td>PT</td>\n",
       "    </tr>\n",
       "    <tr>\n",
       "      <th>264</th>\n",
       "      <td>Spain - On Trailing BVY</td>\n",
       "      <td>Countries</td>\n",
       "      <td>ES</td>\n",
       "    </tr>\n",
       "    <tr>\n",
       "      <th>265</th>\n",
       "      <td>Sweden - On Trailing BVY</td>\n",
       "      <td>Countries</td>\n",
       "      <td>SE</td>\n",
       "    </tr>\n",
       "    <tr>\n",
       "      <th>266</th>\n",
       "      <td>Switzerland - On Trailing BVY</td>\n",
       "      <td>Countries</td>\n",
       "      <td>CH</td>\n",
       "    </tr>\n",
       "    <tr>\n",
       "      <th>267</th>\n",
       "      <td>United Kingdom - On Trailing BVY</td>\n",
       "      <td>Countries</td>\n",
       "      <td>GB</td>\n",
       "    </tr>\n",
       "  </tbody>\n",
       "</table>\n",
       "<p>255 rows × 3 columns</p>\n",
       "</div>"
      ],
      "text/plain": [
       "                                           0          1        2\n",
       "9                    Europe - On Trailing EY     Market     EURO\n",
       "10   Consumer Discretionary - On Trailing EY    Sectors  EURO_25\n",
       "11         Consumer Staples - On Trailing EY    Sectors  EURO_30\n",
       "12                   Energy - On Trailing EY    Sectors  EURO_10\n",
       "13               Financials - On Trailing EY    Sectors  EURO_40\n",
       "..                                       ...        ...      ...\n",
       "263               Portugal - On Trailing BVY  Countries       PT\n",
       "264                  Spain - On Trailing BVY  Countries       ES\n",
       "265                 Sweden - On Trailing BVY  Countries       SE\n",
       "266            Switzerland - On Trailing BVY  Countries       CH\n",
       "267         United Kingdom - On Trailing BVY  Countries       GB\n",
       "\n",
       "[255 rows x 3 columns]"
      ]
     },
     "execution_count": 24,
     "metadata": {},
     "output_type": "execute_result"
    }
   ],
   "source": [
    "# Only first row is null and should be dropped\n",
    "type_df[~type_df.isnull().all(axis=1)]"
   ]
  },
  {
   "cell_type": "code",
   "execution_count": 25,
   "metadata": {},
   "outputs": [],
   "source": [
    "type_df = type_df[~type_df.isnull().all(axis=1)].reset_index(drop=True)"
   ]
  },
  {
   "cell_type": "markdown",
   "metadata": {},
   "source": [
    "### We will create a cartisian product of all dates in final_df and and type_df\n",
    "#### The number of rows in cartsian product should be equal to number of rows in our base output"
   ]
  },
  {
   "cell_type": "code",
   "execution_count": 26,
   "metadata": {},
   "outputs": [],
   "source": [
    "date_df['key'] = type_df['key'] = 0"
   ]
  },
  {
   "cell_type": "code",
   "execution_count": 27,
   "metadata": {},
   "outputs": [
    {
     "data": {
      "text/plain": [
       "(2839170, 5)"
      ]
     },
     "execution_count": 27,
     "metadata": {},
     "output_type": "execute_result"
    }
   ],
   "source": [
    "cartisian_df = date_df.merge(type_df)\n",
    "cartisian_df.shape"
   ]
  },
  {
   "cell_type": "code",
   "execution_count": 28,
   "metadata": {},
   "outputs": [],
   "source": [
    "base_output_df = pd.read_csv('../data/processed/output.csv')"
   ]
  },
  {
   "cell_type": "code",
   "execution_count": 29,
   "metadata": {},
   "outputs": [
    {
     "data": {
      "text/plain": [
       "(2839170, 6)"
      ]
     },
     "execution_count": 29,
     "metadata": {},
     "output_type": "execute_result"
    }
   ],
   "source": [
    "base_output_df.shape"
   ]
  },
  {
   "cell_type": "code",
   "execution_count": 30,
   "metadata": {},
   "outputs": [],
   "source": [
    "assert len(cartisian_df) == len(base_output_df)"
   ]
  },
  {
   "cell_type": "markdown",
   "metadata": {},
   "source": [
    "## Validation sucessful"
   ]
  },
  {
   "cell_type": "code",
   "execution_count": null,
   "metadata": {},
   "outputs": [],
   "source": []
  }
 ],
 "metadata": {
  "kernelspec": {
   "display_name": "Python 3",
   "language": "python",
   "name": "python3"
  },
  "language_info": {
   "codemirror_mode": {
    "name": "ipython",
    "version": 3
   },
   "file_extension": ".py",
   "mimetype": "text/x-python",
   "name": "python",
   "nbconvert_exporter": "python",
   "pygments_lexer": "ipython3",
   "version": "3.6.9"
  }
 },
 "nbformat": 4,
 "nbformat_minor": 2
}
